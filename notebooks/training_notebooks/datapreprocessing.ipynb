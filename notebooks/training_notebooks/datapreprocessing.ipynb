{
 "cells": [
  {
   "cell_type": "markdown",
   "id": "7381ceb3",
   "metadata": {},
   "source": [
    "## Dataset Overview\n",
    "\n",
    "This notebook processes the synthetic energy prompt dataset by computing:\n",
    "\n",
    "- **Token Count** using a transformer tokenizer (BERT).\n",
    "- **Readability Score** using the Flesch Reading Ease formula.\n",
    "\n",
    "**Input**: `data/synthetic/energy_data.csv`  \n",
    "**Output**: `data/processed/processed_data.csv`"
   ]
  },
  {
   "cell_type": "code",
   "execution_count": 2,
   "id": "c3f8667d",
   "metadata": {},
   "outputs": [
    {
     "name": "stdout",
     "output_type": "stream",
     "text": [
      "Columns in CSV: ['num_layers', 'training_hours', 'flops_per_hour', 'token_count', 'readability_score', 'energy_consumption']\n",
      "⚠️ Column 'tokens_per_prompt' not treated as prompt text. Skipping feature engineering.\n",
      "✅ Preprocessing complete. Saved to processed_data.csv\n"
     ]
    }
   ],
   "source": [
    "import pandas as pd\n",
    "from transformers import AutoTokenizer\n",
    "import textstat\n",
    "import os\n",
    "\n",
    "# Load dataset\n",
    "df = pd.read_csv(r\"E:\\SustainableAiProject\\data\\synthetic\\energy_data.csv\")\n",
    "\n",
    "# Confirm column names\n",
    "print(\"Columns in CSV:\", df.columns.tolist())\n",
    "\n",
    "# Load tokenizer\n",
    "tokenizer = AutoTokenizer.from_pretrained(\"bert-base-uncased\")\n",
    "\n",
    "# Optional: If you believe 'tokens_per_prompt' contains actual prompt text,\n",
    "# then compute token count and readability on that.\n",
    "# Otherwise, skip this section.\n",
    "if \"tokens_per_prompt\" in df.columns:\n",
    "    df[\"token_count\"] = df[\"tokens_per_prompt\"].apply(lambda prompt: len(tokenizer(str(prompt))[\"input_ids\"]))\n",
    "    df[\"readability_score\"] = df[\"tokens_per_prompt\"].apply(lambda prompt: textstat.flesch_reading_ease(str(prompt)))\n",
    "else:\n",
    "    print(\"⚠️ Column 'tokens_per_prompt' not treated as prompt text. Skipping feature engineering.\")\n",
    "\n",
    "# Feature and label setup (match actual column names)\n",
    "features = df[[\"num_layers\", \"training_hours\", \"flops_per_hour\", \"token_count\", \"readability_score\"]]\n",
    "labels = df[\"energy_consumption\"]\n",
    "\n",
    "# Save processed dataset\n",
    "output_path = r\"E:\\SustainableAiProject\\data\\processed\"\n",
    "os.makedirs(output_path, exist_ok=True)\n",
    "df.to_csv(os.path.join(output_path, \"processed_data.csv\"), index=False)\n",
    "\n",
    "print(\"✅ Preprocessing complete. Saved to processed_data.csv\")"
   ]
  }
 ],
 "metadata": {
  "kernelspec": {
   "display_name": "venv (3.12.4)",
   "language": "python",
   "name": "python3"
  },
  "language_info": {
   "codemirror_mode": {
    "name": "ipython",
    "version": 3
   },
   "file_extension": ".py",
   "mimetype": "text/x-python",
   "name": "python",
   "nbconvert_exporter": "python",
   "pygments_lexer": "ipython3",
   "version": "3.12.4"
  }
 },
 "nbformat": 4,
 "nbformat_minor": 5
}

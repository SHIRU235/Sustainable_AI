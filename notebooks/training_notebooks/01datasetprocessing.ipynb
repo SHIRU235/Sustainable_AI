{
 "cells": [
  {
   "cell_type": "markdown",
   "id": "759b59d4",
   "metadata": {},
   "source": [
    "## Dataset Overview\n",
    "\n",
    "This notebook processes the synthetic energy prompt dataset by computing:\n",
    "\n",
    "- **Token Count** using a transformer tokenizer (BERT).\n",
    "- **Readability Score** using the Flesch Reading Ease formula.\n",
    "\n",
    "**Input**: `data/synthetic/energy_data.csv`  \n",
    "**Output**: `data/processed/processed_data.csv`"
   ]
  },
  {
   "cell_type": "code",
   "execution_count": null,
   "id": "2623e525",
   "metadata": {},
   "outputs": [
    {
     "name": "stdout",
     "output_type": "stream",
     "text": [
      "Columns in CSV: ['num_layers', 'training_hours', 'flops_per_hour', 'energy_consumption']\n"
     ]
    },
    {
     "name": "stderr",
     "output_type": "stream",
     "text": [
      "e:\\SustainableAI_FinalProject\\venv\\Lib\\site-packages\\huggingface_hub\\file_download.py:143: UserWarning: `huggingface_hub` cache-system uses symlinks by default to efficiently store duplicated files but your machine does not support them in C:\\Users\\shiru\\.cache\\huggingface\\hub\\models--bert-base-uncased. Caching files will still work but in a degraded version that might require more space on your disk. This warning can be disabled by setting the `HF_HUB_DISABLE_SYMLINKS_WARNING` environment variable. For more details, see https://huggingface.co/docs/huggingface_hub/how-to-cache#limitations.\n",
      "To support symlinks on Windows, you either need to activate Developer Mode or to run Python as an administrator. In order to activate developer mode, see this article: https://docs.microsoft.com/en-us/windows/apps/get-started/enable-your-device-for-development\n",
      "  warnings.warn(message)\n"
     ]
    },
    {
     "name": "stdout",
     "output_type": "stream",
     "text": [
      "⚠️ Column 'tokens_per_prompt' not treated as prompt text. Skipping feature engineering.\n",
      "✅ Preprocessing complete. Saved to processed_data.csv\n"
     ]
    }
   ],
   "source": [
    "import pandas as pd\n",
    "from transformers import AutoTokenizer\n",
    "import textstat\n",
    "import os\n",
    "\n",
    "# Load dataset\n",
    "df = pd.read_csv(r\"E:\\SustainableAI_FinalProject\\data\\synthetic\\energy_data.csv\")\n",
    "\n",
    "# Confirm column names\n",
    "print(\"Columns in CSV:\", df.columns.tolist())\n",
    "\n",
    "# Load tokenizer\n",
    "tokenizer = AutoTokenizer.from_pretrained(\"bert-base-uncased\")\n",
    "\n",
    "# Optional: If you believe 'tokens_per_prompt' contains actual prompt text,\n",
    "# then compute token count and readability on that.\n",
    "# Otherwise, skip this section.\n",
    "if \"tokens_per_prompt\" in df.columns:\n",
    "    df[\"token_count\"] = df[\"tokens_per_prompt\"].apply(lambda prompt: len(tokenizer(str(prompt))[\"input_ids\"]))\n",
    "    df[\"readability_score\"] = df[\"tokens_per_prompt\"].apply(lambda prompt: textstat.flesch_reading_ease(str(prompt)))\n",
    "else:\n",
    "    print(\"⚠️ Column 'tokens_per_prompt' not treated as prompt text. Skipping feature engineering.\")\n",
    "\n",
    "# Feature and label setup (match actual column names)\n",
    "features = df[[\"num_layers\", \"training_hours\", \"flops_per_hour\"]]\n",
    "labels = df[\"energy_consumption\"]\n",
    "\n",
    "# Save processed dataset\n",
    "output_path = r\"E:\\SustainableAI_FinalProject\\data\\processed\"\n",
    "os.makedirs(output_path, exist_ok=True)\n",
    "df.to_csv(os.path.join(output_path, \"processed_data.csv\"), index=False)\n",
    "\n",
    "print(\"✅ Preprocessing complete. Saved to processed_data.csv\")"
   ]
  },
  {
   "cell_type": "code",
   "execution_count": null,
   "id": "cc8113ed",
   "metadata": {},
   "outputs": [],
   "source": []
  }
 ],
 "metadata": {
  "kernelspec": {
   "display_name": "venv (3.13.3)",
   "language": "python",
   "name": "python3"
  },
  "language_info": {
   "codemirror_mode": {
    "name": "ipython",
    "version": 3
   },
   "file_extension": ".py",
   "mimetype": "text/x-python",
   "name": "python",
   "nbconvert_exporter": "python",
   "pygments_lexer": "ipython3",
   "version": "3.13.3"
  }
 },
 "nbformat": 4,
 "nbformat_minor": 5
}

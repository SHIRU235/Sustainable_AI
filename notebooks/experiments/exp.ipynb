{
 "cells": [
  {
   "cell_type": "code",
   "execution_count": 1,
   "id": "6059ab93",
   "metadata": {},
   "outputs": [],
   "source": [
    "import sys\n",
    "import os\n",
    "\n",
    "# Get the current working directory of the notebook\n",
    "notebook_dir = os.getcwd()\n",
    "\n",
    "# Go up two levels and enter 'src'\n",
    "src_path = os.path.abspath(os.path.join(notebook_dir, \"..\", \"..\", \"src\"))\n",
    "\n",
    "# Add src to sys.path\n",
    "sys.path.append(src_path)"
   ]
  },
  {
   "cell_type": "code",
   "execution_count": 2,
   "id": "1caba3e2",
   "metadata": {},
   "outputs": [
    {
     "name": "stdout",
     "output_type": "stream",
     "text": [
      "CSV Columns: ['num_layers', 'training_hours', 'flops_per_hour', 'token_count', 'readability_score', 'energy_consumption']\n",
      "✅ Model trained and saved at: E:\\SustainableAiProject\\model\\energy_predictor\\energy_predictor.pkl\n",
      "✅ Report created at E:\\SustainableAiProject\\reports\\energy_estimates.csv\n"
     ]
    },
    {
     "name": "stderr",
     "output_type": "stream",
     "text": [
      "e:\\SustainableAiProject\\venv\\Lib\\site-packages\\sklearn\\utils\\validation.py:2749: UserWarning: X does not have valid feature names, but RandomForestRegressor was fitted with feature names\n",
      "  warnings.warn(\n",
      "e:\\SustainableAiProject\\venv\\Lib\\site-packages\\sklearn\\utils\\validation.py:2749: UserWarning: X does not have valid feature names, but RandomForestRegressor was fitted with feature names\n",
      "  warnings.warn(\n"
     ]
    }
   ],
   "source": [
    "import os\n",
    "import pandas as pd\n",
    "from datetime import datetime\n",
    "import importlib\n",
    "import prediction.estimator\n",
    "importlib.reload(prediction.estimator)\n",
    "from prediction.estimator import train_energy_model, predict_energy\n",
    "\n",
    "# Step 1 — Train model\n",
    "model_path = r\"E:\\SustainableAiProject\\model\\energy_predictor\\energy_predictor.pkl\"\n",
    "train_energy_model(r\"E:\\SustainableAiProject\\data\\processed\\processed_data.csv\", save_model_path=model_path)\n",
    "\n",
    "# Step 2 — Define test feature sets (you can add multiple rows here)\n",
    "test_features_list = [\n",
    "    {\n",
    "        \"num_layers\": 12,\n",
    "        \"training_hours\": 5,\n",
    "        \"flops_per_hour\": 2.3e12,\n",
    "        \"token_count\": 15000,\n",
    "        \"readability_score\": 8.7\n",
    "    },\n",
    "    {\n",
    "        \"num_layers\": 8,\n",
    "        \"training_hours\": 3,\n",
    "        \"flops_per_hour\": 1.5e12,\n",
    "        \"token_count\": 12000,\n",
    "        \"readability_score\": 7.2\n",
    "    }\n",
    "]\n",
    "\n",
    "# Step 3 — Run predictions and store results\n",
    "rows = []\n",
    "for features in test_features_list:\n",
    "    prediction = predict_energy(model_path, features)\n",
    "    rows.append({\n",
    "        \"timestamp\": datetime.now().strftime(\"%Y-%m-%d %H:%M:%S\"),\n",
    "        **features,\n",
    "        \"predicted_energy\": prediction\n",
    "    })\n",
    "\n",
    "# Step 4 — Save to reports/energy_estimates.csv\n",
    "os.makedirs(\"reports\", exist_ok=True)\n",
    "report_file = r\"E:\\SustainableAiProject\\reports\\energy_estimates.csv\"\n",
    "df_report = pd.DataFrame(rows)\n",
    "df_report.to_csv(report_file, index=False)\n",
    "\n",
    "print(f\"✅ Report created at {report_file}\")"
   ]
  },
  {
   "cell_type": "code",
   "execution_count": 3,
   "id": "2c8e7532",
   "metadata": {},
   "outputs": [],
   "source": [
    "import matplotlib.pyplot as plt\n",
    "import pandas as pd\n",
    "import joblib\n",
    "import os\n",
    "\n",
    "# Load model and data\n",
    "model = joblib.load(r\"E:\\SustainableAiProject\\model\\energy_predictor\\energy_predictor.pkl\")\n",
    "df = pd.read_csv(r\"E:\\SustainableAiProject\\data\\processed\\processed_data.csv\")\n",
    "\n",
    "features = ['num_layers', 'training_hours', 'flops_per_hour', 'token_count', 'readability_score']\n",
    "X = df[features]\n",
    "y = df['energy_consumption']\n",
    "\n",
    "# Feature importance\n",
    "importances = model.feature_importances_\n",
    "plt.figure(figsize=(8,5))\n",
    "plt.bar(features, importances)\n",
    "plt.title(\"Feature Importance for Energy Prediction\")\n",
    "plt.ylabel(\"Importance\")\n",
    "plt.xticks(rotation=45)\n",
    "# os.makedirs(\"reports/visualizations\", exist_ok=True)\n",
    "plt.tight_layout()\n",
    "plt.savefig(r\"E:\\SustainableAiProject\\reports\\visualizations\\feature_importance.png\")\n",
    "plt.close()"
   ]
  }
 ],
 "metadata": {
  "kernelspec": {
   "display_name": "venv (3.12.4)",
   "language": "python",
   "name": "python3"
  },
  "language_info": {
   "codemirror_mode": {
    "name": "ipython",
    "version": 3
   },
   "file_extension": ".py",
   "mimetype": "text/x-python",
   "name": "python",
   "nbconvert_exporter": "python",
   "pygments_lexer": "ipython3",
   "version": "3.12.4"
  }
 },
 "nbformat": 4,
 "nbformat_minor": 5
}
